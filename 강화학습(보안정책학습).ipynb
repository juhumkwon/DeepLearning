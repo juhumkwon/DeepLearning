{
  "nbformat": 4,
  "nbformat_minor": 0,
  "metadata": {
    "colab": {
      "provenance": [],
      "authorship_tag": "ABX9TyMfIsDsAKFAF86vzLjUBqyt",
      "include_colab_link": true
    },
    "kernelspec": {
      "name": "python3",
      "display_name": "Python 3"
    },
    "language_info": {
      "name": "python"
    }
  },
  "cells": [
    {
      "cell_type": "markdown",
      "metadata": {
        "id": "view-in-github",
        "colab_type": "text"
      },
      "source": [
        "<a href=\"https://colab.research.google.com/github/juhumkwon/DeepLearning/blob/main/%EA%B0%95%ED%99%94%ED%95%99%EC%8A%B5(%EB%B3%B4%EC%95%88%EC%A0%95%EC%B1%85%ED%95%99%EC%8A%B5).ipynb\" target=\"_parent\"><img src=\"https://colab.research.google.com/assets/colab-badge.svg\" alt=\"Open In Colab\"/></a>"
      ]
    },
    {
      "cell_type": "code",
      "execution_count": null,
      "metadata": {
        "colab": {
          "base_uri": "https://localhost:8080/"
        },
        "id": "vmLMSaV_ZrEr",
        "outputId": "ff2b0e93-0734-4372-eeac-382d12381ae5"
      },
      "outputs": [
        {
          "output_type": "stream",
          "name": "stderr",
          "text": [
            "/usr/local/lib/python3.11/dist-packages/keras/src/layers/core/dense.py:87: UserWarning: Do not pass an `input_shape`/`input_dim` argument to a layer. When using Sequential models, prefer using an `Input(shape)` object as the first layer in the model instead.\n",
            "  super().__init__(activity_regularizer=activity_regularizer, **kwargs)\n"
          ]
        },
        {
          "output_type": "stream",
          "name": "stdout",
          "text": [
            "[0] Loss: 4.7207, Reward: -2\n",
            "[100] Loss: 21.9890, Reward: -5\n",
            "[200] Loss: 0.2188, Reward: 0.5\n",
            "[300] Loss: 2.7843, Reward: 1\n",
            "[400] Loss: 0.0745, Reward: 1\n",
            "[500] Loss: 0.6705, Reward: 1\n",
            "[600] Loss: 0.1302, Reward: 0.5\n",
            "[700] Loss: 1.3433, Reward: 0.5\n",
            "[800] Loss: 3.0939, Reward: 0.5\n",
            "[900] Loss: 0.6720, Reward: 0.5\n"
          ]
        }
      ],
      "source": [
        "import numpy as np\n",
        "import tensorflow as tf\n",
        "import random\n",
        "\n",
        "# 트래픽 상태: [포트, IP 평판, 패킷 길이, 프로토콜]\n",
        "def generate_traffic():\n",
        "    port = np.random.choice([22, 80, 443, 3389])\n",
        "    reputation = np.random.choice([0, 1])  # 0: 악성, 1: 정상\n",
        "    length = np.random.randint(50, 1500)\n",
        "    proto = np.random.choice([0, 1])  # 0: TCP, 1: UDP\n",
        "    return np.array([port/1000, reputation, length/1500, proto], dtype=np.float32)\n",
        "\n",
        "# 에이전트 행동: 0 = 허용, 1 = 차단\n",
        "def get_reward(action, traffic):\n",
        "    label = traffic[1]  # 평판 기반 진짜 정답\n",
        "    if action == 1 and label == 0:\n",
        "        return +1  # 악성 차단 성공\n",
        "    elif action == 1 and label == 1:\n",
        "        return -2  # 정상인데 차단 (오탐)\n",
        "    elif action == 0 and label == 0:\n",
        "        return -5  # 악성인데 허용 (미탐)\n",
        "    else:\n",
        "        return 0.5  # 정상 허용\n",
        "\n",
        "# 간단한 Q-네트워크\n",
        "model = tf.keras.Sequential([\n",
        "    tf.keras.layers.Dense(32, activation='relu', input_shape=(4,)),\n",
        "    tf.keras.layers.Dense(32, activation='relu'),\n",
        "    tf.keras.layers.Dense(2, activation='linear')  # 행동 2가지\n",
        "])\n",
        "optimizer = tf.keras.optimizers.Adam(0.001)\n",
        "gamma = 0.95\n",
        "\n",
        "# 학습\n",
        "for episode in range(1000):\n",
        "    state = generate_traffic()\n",
        "    state_input = tf.expand_dims(state, axis=0)\n",
        "    q_values = model(state_input).numpy()[0]\n",
        "\n",
        "    # ε-greedy\n",
        "    epsilon = max(0.1, 1 - episode / 500)\n",
        "    if random.random() < epsilon:\n",
        "        action = random.randint(0, 1)\n",
        "    else:\n",
        "        action = np.argmax(q_values)\n",
        "\n",
        "    reward = get_reward(action, state)\n",
        "    next_state = generate_traffic()\n",
        "    next_q = model(tf.expand_dims(next_state, axis=0)).numpy()[0]\n",
        "    target = reward + gamma * np.max(next_q)\n",
        "\n",
        "    with tf.GradientTape() as tape:\n",
        "        q_pred = model(state_input)[0, action]\n",
        "        loss = tf.square(q_pred - target)\n",
        "    grads = tape.gradient(loss, model.trainable_variables)\n",
        "    optimizer.apply_gradients(zip(grads, model.trainable_variables))\n",
        "\n",
        "    if episode % 100 == 0:\n",
        "        print(f\"[{episode}] Loss: {loss.numpy():.4f}, Reward: {reward}\")\n"
      ]
    }
  ]
}