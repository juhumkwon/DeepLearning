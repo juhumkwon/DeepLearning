{
  "nbformat": 4,
  "nbformat_minor": 0,
  "metadata": {
    "colab": {
      "provenance": [],
      "authorship_tag": "ABX9TyOFED9maHGj/IOsX1LdUEUQ",
      "include_colab_link": true
    },
    "kernelspec": {
      "name": "python3",
      "display_name": "Python 3"
    },
    "language_info": {
      "name": "python"
    }
  },
  "cells": [
    {
      "cell_type": "markdown",
      "metadata": {
        "id": "view-in-github",
        "colab_type": "text"
      },
      "source": [
        "<a href=\"https://colab.research.google.com/github/juhumkwon/DeepLearning/blob/main/CL_02_07_AdaBoost_%EB%8B%A4%EC%A4%91_%ED%81%B4%EB%9E%98%EC%8A%A4.ipynb\" target=\"_parent\"><img src=\"https://colab.research.google.com/assets/colab-badge.svg\" alt=\"Open In Colab\"/></a>"
      ]
    },
    {
      "cell_type": "code",
      "execution_count": null,
      "metadata": {
        "colab": {
          "base_uri": "https://localhost:8080/"
        },
        "id": "gBbJnXMyVMpR",
        "outputId": "bf105a91-68ec-41b4-98ef-f6e5c984b1c9"
      },
      "outputs": [
        {
          "output_type": "stream",
          "name": "stdout",
          "text": [
            "정확도: 1.0\n",
            "\n",
            "분류 보고서:\n",
            "               precision    recall  f1-score   support\n",
            "\n",
            "           0       1.00      1.00      1.00        19\n",
            "           1       1.00      1.00      1.00        13\n",
            "           2       1.00      1.00      1.00        13\n",
            "\n",
            "    accuracy                           1.00        45\n",
            "   macro avg       1.00      1.00      1.00        45\n",
            "weighted avg       1.00      1.00      1.00        45\n",
            "\n"
          ]
        },
        {
          "output_type": "stream",
          "name": "stderr",
          "text": [
            "/usr/local/lib/python3.12/dist-packages/sklearn/ensemble/_weight_boosting.py:519: FutureWarning: The parameter 'algorithm' is deprecated in 1.6 and has no effect. It will be removed in version 1.8.\n",
            "  warnings.warn(\n"
          ]
        }
      ],
      "source": [
        "from sklearn.datasets import load_iris\n",
        "from sklearn.model_selection import train_test_split\n",
        "from sklearn.ensemble import AdaBoostClassifier\n",
        "from sklearn.tree import DecisionTreeClassifier\n",
        "from sklearn.metrics import accuracy_score, classification_report\n",
        "\n",
        "# 1. 데이터 로드\n",
        "iris = load_iris()\n",
        "X, y = iris.data, iris.target\n",
        "\n",
        "# 2. 훈련/测试 데이터 분할\n",
        "X_train, X_test, y_train, y_test = train_test_split(X, y, test_size=0.3, random_state=42)\n",
        "\n",
        "# 3. 기본 분류기 (약한 학습기, stump 사용)\n",
        "base_clf = DecisionTreeClassifier(max_depth=1)\n",
        "\n",
        "# 4. AdaBoost 다중 클래스 모델\n",
        "ada_clf = AdaBoostClassifier(\n",
        "    estimator=base_clf,\n",
        "    n_estimators=50,\n",
        "    algorithm=\"SAMME\",  # 다중 클래스 지원\n",
        "    random_state=42\n",
        ")\n",
        "\n",
        "# 5. 학습\n",
        "ada_clf.fit(X_train, y_train)\n",
        "\n",
        "# 6. 예측\n",
        "y_pred = ada_clf.predict(X_test)\n",
        "\n",
        "# 7. 평가\n",
        "print(\"정확도:\", accuracy_score(y_test, y_pred))\n",
        "print(\"\\n분류 보고서:\\n\", classification_report(y_test, y_pred))"
      ]
    }
  ]
}