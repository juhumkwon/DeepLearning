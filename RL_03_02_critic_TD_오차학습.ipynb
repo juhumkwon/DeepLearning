{
  "nbformat": 4,
  "nbformat_minor": 0,
  "metadata": {
    "colab": {
      "provenance": [],
      "name": "RL_03_02_critic_TD_오차학습.ipynb",
      "authorship_tag": "ABX9TyNmzbE8oSyCRpKdhUVX9Mt+",
      "include_colab_link": true
    },
    "kernelspec": {
      "name": "python3",
      "display_name": "Python 3"
    },
    "language_info": {
      "name": "python"
    }
  },
  "cells": [
    {
      "cell_type": "markdown",
      "metadata": {
        "id": "view-in-github",
        "colab_type": "text"
      },
      "source": [
        "<a href=\"https://colab.research.google.com/github/juhumkwon/DeepLearning/blob/main/RL_03_02_critic_TD_%EC%98%A4%EC%B0%A8%ED%95%99%EC%8A%B5.ipynb\" target=\"_parent\"><img src=\"https://colab.research.google.com/assets/colab-badge.svg\" alt=\"Open In Colab\"/></a>"
      ]
    },
    {
      "cell_type": "code",
      "execution_count": null,
      "metadata": {
        "colab": {
          "base_uri": "https://localhost:8080/"
        },
        "id": "WGplM7Tg7WTc",
        "outputId": "3bc94d4f-a472-4af5-d1d6-ed015e7e1e8f"
      },
      "outputs": [
        {
          "output_type": "stream",
          "name": "stdout",
          "text": [
            "V(s)        = -0.0279\n",
            "V(s')       = -0.0236\n",
            "Target      = 0.9766\n",
            "TD Error δ  = 1.0045\n",
            "Loss (δ²)   = 1.009023\n"
          ]
        }
      ],
      "source": [
        "import tensorflow as tf\n",
        "import numpy as np\n",
        "\n",
        "# 간단한 Critic 모델 정의\n",
        "class Critic(tf.keras.Model):\n",
        "    def __init__(self):\n",
        "        super().__init__()\n",
        "        self.d1 = tf.keras.layers.Dense(16, activation='relu')\n",
        "        self.out = tf.keras.layers.Dense(1)  # V(s) 출력\n",
        "\n",
        "    def call(self, x):\n",
        "        x = self.d1(x)\n",
        "        return self.out(x)\n",
        "\n",
        "# 하이퍼파라미터\n",
        "gamma = 0.99\n",
        "critic = Critic()\n",
        "optimizer = tf.keras.optimizers.Adam(learning_rate=0.01)\n",
        "\n",
        "# 샘플 상태 (예: 4차원 CartPole 상태)\n",
        "state = np.array([[0.0, 0.1, 0.0, 0.05]], dtype=np.float32)\n",
        "next_state = np.array([[0.0, 0.2, 0.0, -0.03]], dtype=np.float32)\n",
        "reward = 1.0\n",
        "done = False  # 에피소드 종료 여부\n",
        "\n",
        "# 학습 단계\n",
        "with tf.GradientTape() as tape:\n",
        "    v = critic(state)[0, 0]         # 현재 상태 V(s)\n",
        "    v_next = critic(next_state)[0, 0]  # 다음 상태 V(s')\n",
        "\n",
        "    # TD Target 계산\n",
        "    target = reward + (0.0 if done else gamma * v_next)\n",
        "    td_error = target - v            # TD 오차\n",
        "\n",
        "    # Critic 손실 = TD 오차 제곱\n",
        "    critic_loss = td_error**2\n",
        "\n",
        "# 경사하강법으로 critic 업데이트\n",
        "grads = tape.gradient(critic_loss, critic.trainable_variables)\n",
        "optimizer.apply_gradients(zip(grads, critic.trainable_variables))\n",
        "\n",
        "print(f\"V(s)        = {v.numpy():.4f}\")\n",
        "print(f\"V(s')       = {v_next.numpy():.4f}\")\n",
        "print(f\"Target      = {target.numpy():.4f}\")\n",
        "print(f\"TD Error δ  = {td_error.numpy():.4f}\")\n",
        "print(f\"Loss (δ²)   = {critic_loss.numpy():.6f}\")\n"
      ]
    }
  ]
}