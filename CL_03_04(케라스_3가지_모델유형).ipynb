{
  "nbformat": 4,
  "nbformat_minor": 0,
  "metadata": {
    "colab": {
      "provenance": [],
      "authorship_tag": "ABX9TyP9lOBFEMOeeO7dEDbKc3by",
      "include_colab_link": true
    },
    "kernelspec": {
      "name": "python3",
      "display_name": "Python 3"
    },
    "language_info": {
      "name": "python"
    }
  },
  "cells": [
    {
      "cell_type": "markdown",
      "metadata": {
        "id": "view-in-github",
        "colab_type": "text"
      },
      "source": [
        "<a href=\"https://colab.research.google.com/github/juhumkwon/DeepLearning/blob/main/CL_03_04(%EC%BC%80%EB%9D%BC%EC%8A%A4_3%EA%B0%80%EC%A7%80_%EB%AA%A8%EB%8D%B8%EC%9C%A0%ED%98%95).ipynb\" target=\"_parent\"><img src=\"https://colab.research.google.com/assets/colab-badge.svg\" alt=\"Open In Colab\"/></a>"
      ]
    },
    {
      "cell_type": "code",
      "execution_count": 1,
      "metadata": {
        "colab": {
          "base_uri": "https://localhost:8080/"
        },
        "id": "Rr_K4pLnWLmn",
        "outputId": "714c5d20-5990-4c0b-b1a3-1f441ceafaa7"
      },
      "outputs": [
        {
          "output_type": "stream",
          "name": "stdout",
          "text": [
            "Downloading data from https://storage.googleapis.com/tensorflow/tf-keras-datasets/mnist.npz\n",
            "\u001b[1m11490434/11490434\u001b[0m \u001b[32m━━━━━━━━━━━━━━━━━━━━\u001b[0m\u001b[37m\u001b[0m \u001b[1m0s\u001b[0m 0us/step\n"
          ]
        },
        {
          "output_type": "stream",
          "name": "stderr",
          "text": [
            "/usr/local/lib/python3.12/dist-packages/keras/src/layers/reshaping/flatten.py:37: UserWarning: Do not pass an `input_shape`/`input_dim` argument to a layer. When using Sequential models, prefer using an `Input(shape)` object as the first layer in the model instead.\n",
            "  super().__init__(**kwargs)\n"
          ]
        },
        {
          "output_type": "stream",
          "name": "stdout",
          "text": [
            "\n",
            "=== Sequential 모델 학습 ===\n",
            "Epoch 1/2\n",
            "469/469 - 3s - 5ms/step - accuracy: 0.8992 - loss: 0.3641\n",
            "Epoch 2/2\n",
            "469/469 - 2s - 4ms/step - accuracy: 0.9534 - loss: 0.1636\n",
            "평가: [0.1349998563528061, 0.9609000086784363]\n",
            "\n",
            "=== Functional 모델 학습 ===\n",
            "Epoch 1/2\n",
            "469/469 - 3s - 6ms/step - accuracy: 0.9008 - loss: 0.3646\n",
            "Epoch 2/2\n",
            "469/469 - 3s - 6ms/step - accuracy: 0.9520 - loss: 0.1677\n",
            "평가: [0.14063961803913116, 0.9592000246047974]\n",
            "\n",
            "=== Subclassing 모델 학습 ===\n",
            "Epoch 1/2\n",
            "469/469 - 2s - 5ms/step - accuracy: 0.9010 - loss: 0.3579\n",
            "Epoch 2/2\n",
            "469/469 - 2s - 3ms/step - accuracy: 0.9536 - loss: 0.1623\n",
            "평가: [0.13527527451515198, 0.9613999724388123]\n"
          ]
        }
      ],
      "source": [
        "import tensorflow as tf\n",
        "from tensorflow.keras.datasets import mnist\n",
        "from tensorflow.keras.utils import to_categorical\n",
        "\n",
        "# 1. 데이터 불러오기\n",
        "(x_train, y_train), (x_test, y_test) = mnist.load_data()\n",
        "x_train, x_test = x_train / 255.0, x_test / 255.0   # 정규화\n",
        "y_train, y_test = to_categorical(y_train, 10), to_categorical(y_test, 10)\n",
        "\n",
        "# ==============================================================\n",
        "# 1️⃣ Sequential API\n",
        "# ==============================================================\n",
        "seq_model = tf.keras.models.Sequential([\n",
        "    tf.keras.layers.Flatten(input_shape=(28,28)),\n",
        "    tf.keras.layers.Dense(128, activation='relu'),\n",
        "    tf.keras.layers.Dense(10, activation='softmax')\n",
        "])\n",
        "\n",
        "seq_model.compile(optimizer='adam', loss='categorical_crossentropy', metrics=['accuracy'])\n",
        "print(\"\\n=== Sequential 모델 학습 ===\")\n",
        "seq_model.fit(x_train, y_train, epochs=2, batch_size=128, verbose=2)\n",
        "print(\"평가:\", seq_model.evaluate(x_test, y_test, verbose=0)) # sub_model.evaluate()는 [loss, accuracy] 형태의 리스트를 반환합니다.\n",
        "\n",
        "# ==============================================================\n",
        "# 2️⃣ Functional API\n",
        "# ==============================================================\n",
        "inputs = tf.keras.layers.Input(shape=(28,28))\n",
        "x = tf.keras.layers.Flatten()(inputs)\n",
        "x = tf.keras.layers.Dense(128, activation='relu')(x)\n",
        "outputs = tf.keras.layers.Dense(10, activation='softmax')(x)\n",
        "\n",
        "func_model = tf.keras.models.Model(inputs=inputs, outputs=outputs)\n",
        "func_model.compile(optimizer='adam', loss='categorical_crossentropy', metrics=['accuracy'])\n",
        "\n",
        "print(\"\\n=== Functional 모델 학습 ===\")\n",
        "func_model.fit(x_train, y_train, epochs=2, batch_size=128, verbose=2)\n",
        "print(\"평가:\", func_model.evaluate(x_test, y_test, verbose=0))\n",
        "\n",
        "# ==============================================================\n",
        "# 3️⃣ Subclassing\n",
        "# ==============================================================\n",
        "class MyModel(tf.keras.Model):\n",
        "    def __init__(self):\n",
        "        super(MyModel, self).__init__()\n",
        "        self.flatten = tf.keras.layers.Flatten()\n",
        "        self.d1 = tf.keras.layers.Dense(128, activation='relu')\n",
        "        self.d2 = tf.keras.layers.Dense(10, activation='softmax')\n",
        "\n",
        "    def call(self, x):\n",
        "        x = self.flatten(x)\n",
        "        x = self.d1(x)\n",
        "        return self.d2(x)\n",
        "\n",
        "sub_model = MyModel()\n",
        "sub_model.compile(optimizer='adam', loss='categorical_crossentropy', metrics=['accuracy'])\n",
        "\n",
        "print(\"\\n=== Subclassing 모델 학습 ===\")\n",
        "sub_model.fit(x_train, y_train, epochs=2, batch_size=128, verbose=2)\n",
        "print(\"평가:\", sub_model.evaluate(x_test, y_test, verbose=0))\n"
      ]
    }
  ]
}