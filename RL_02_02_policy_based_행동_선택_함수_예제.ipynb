{
  "nbformat": 4,
  "nbformat_minor": 0,
  "metadata": {
    "colab": {
      "provenance": [],
      "name": "RL_02_02_policy_based_행동 선택 함수 예제.ipynb",
      "authorship_tag": "ABX9TyPVYT2MwyJ6N0H3lhv04iYT",
      "include_colab_link": true
    },
    "kernelspec": {
      "name": "python3",
      "display_name": "Python 3"
    },
    "language_info": {
      "name": "python"
    }
  },
  "cells": [
    {
      "cell_type": "markdown",
      "metadata": {
        "id": "view-in-github",
        "colab_type": "text"
      },
      "source": [
        "<a href=\"https://colab.research.google.com/github/juhumkwon/DeepLearning/blob/main/RL_02_02_policy_based_%ED%96%89%EB%8F%99_%EC%84%A0%ED%83%9D_%ED%95%A8%EC%88%98_%EC%98%88%EC%A0%9C.ipynb\" target=\"_parent\"><img src=\"https://colab.research.google.com/assets/colab-badge.svg\" alt=\"Open In Colab\"/></a>"
      ]
    },
    {
      "cell_type": "code",
      "execution_count": null,
      "metadata": {
        "colab": {
          "base_uri": "https://localhost:8080/"
        },
        "id": "2R4bU0U8Es5a",
        "outputId": "a823453b-3652-49ed-89e5-7194ae7bf2fd"
      },
      "outputs": [
        {
          "output_type": "stream",
          "name": "stdout",
          "text": [
            "행동 확률: [0.5085444  0.49145564]\n",
            "선택된 행동: 1\n"
          ]
        }
      ],
      "source": [
        "import tensorflow as tf\n",
        "import numpy as np\n",
        "\n",
        "# 정책 네트워크(Actor)\n",
        "class Actor(tf.keras.Model):\n",
        "    def __init__(self, action_size):\n",
        "        super().__init__()\n",
        "        self.fc1 = tf.keras.layers.Dense(24, activation='relu')\n",
        "        self.fc2 = tf.keras.layers.Dense(24, activation='relu')\n",
        "        self.out = tf.keras.layers.Dense(action_size, activation='softmax')\n",
        "\n",
        "    def call(self, state):\n",
        "        x = self.fc1(state)\n",
        "        x = self.fc2(x)\n",
        "        return self.out(x)\n",
        "\n",
        "# 행동 선택 함수 (categorical 사용)\n",
        "def select_action(actor, state):\n",
        "    state = tf.convert_to_tensor([state], dtype=tf.float32)\n",
        "    probs = actor(state)  # (1, action_size)\n",
        "    action = tf.random.categorical(tf.math.log(probs), 1)  # log-prob를 사용하여 샘플링\n",
        "    return int(action[0, 0]), probs[0].numpy()\n",
        "\n",
        "# 사용 예시\n",
        "action_size = 2\n",
        "actor = Actor(action_size)\n",
        "state = [0.1, 0.2, 0.3, 0.4]\n",
        "\n",
        "action, action_probs = select_action(actor, state)\n",
        "print(\"행동 확률:\", action_probs)\n",
        "print(\"선택된 행동:\", action)\n"
      ]
    },
    {
      "cell_type": "code",
      "source": [
        "import tensorflow as tf\n",
        "import numpy as np\n",
        "\n",
        "# 정책 네트워크(Actor) 정의\n",
        "class Actor(tf.keras.Model):\n",
        "    def __init__(self, action_size):\n",
        "        super().__init__()\n",
        "        self.fc1 = tf.keras.layers.Dense(24, activation='relu')\n",
        "        self.fc2 = tf.keras.layers.Dense(24, activation='relu')\n",
        "        self.out = tf.keras.layers.Dense(action_size, activation='softmax')\n",
        "\n",
        "    def call(self, state):\n",
        "        x = self.fc1(state)\n",
        "        x = self.fc2(x)\n",
        "        return self.out(x)\n",
        "\n",
        "# 행동 선택 함수\n",
        "def select_action(actor, state):\n",
        "    state = tf.convert_to_tensor([state], dtype=tf.float32)\n",
        "    probs = actor(state)[0].numpy()       # 행동 확률 (πθ(a|s))\n",
        "    action = np.random.choice(len(probs), p=probs)  # 확률적으로 행동 선택\n",
        "    return action, probs\n",
        "\n",
        "# 사용 예시\n",
        "action_size = 2\n",
        "actor = Actor(action_size)\n",
        "state = [0.1, 0.2, 0.3, 0.4]   # 예시 상태 (CartPole 관측값)\n",
        "action, action_probs = select_action(actor, state)\n",
        "\n",
        "print(\"행동 확률:\", action_probs)\n",
        "print(\"선택된 행동:\", action)\n"
      ],
      "metadata": {
        "colab": {
          "base_uri": "https://localhost:8080/"
        },
        "id": "43fDZLTVE8a5",
        "outputId": "fb13a9f2-a9ea-4b28-8634-849a4dc81364"
      },
      "execution_count": null,
      "outputs": [
        {
          "output_type": "stream",
          "name": "stdout",
          "text": [
            "행동 확률: [0.56145924 0.4385407 ]\n",
            "선택된 행동: 1\n"
          ]
        }
      ]
    }
  ]
}