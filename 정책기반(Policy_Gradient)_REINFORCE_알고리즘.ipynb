{
  "nbformat": 4,
  "nbformat_minor": 0,
  "metadata": {
    "colab": {
      "provenance": [],
      "authorship_tag": "ABX9TyPYE16rkPGxFmUEze/eS8Nq",
      "include_colab_link": true
    },
    "kernelspec": {
      "name": "python3",
      "display_name": "Python 3"
    },
    "language_info": {
      "name": "python"
    }
  },
  "cells": [
    {
      "cell_type": "markdown",
      "metadata": {
        "id": "view-in-github",
        "colab_type": "text"
      },
      "source": [
        "<a href=\"https://colab.research.google.com/github/juhumkwon/DeepLearning/blob/main/%EC%A0%95%EC%B1%85%EA%B8%B0%EB%B0%98(Policy_Gradient)_REINFORCE_%EC%95%8C%EA%B3%A0%EB%A6%AC%EC%A6%98.ipynb\" target=\"_parent\"><img src=\"https://colab.research.google.com/assets/colab-badge.svg\" alt=\"Open In Colab\"/></a>"
      ]
    },
    {
      "cell_type": "code",
      "execution_count": 1,
      "metadata": {
        "colab": {
          "base_uri": "https://localhost:8080/"
        },
        "id": "k1klfxmEyq6V",
        "outputId": "8d1ac9f6-45d2-4caa-cf85-448653f5184a"
      },
      "outputs": [
        {
          "output_type": "execute_result",
          "data": {
            "text/plain": [
              "<pyvirtualdisplay.display.Display at 0x7d1a49c51150>"
            ]
          },
          "metadata": {},
          "execution_count": 1
        }
      ],
      "source": [
        "# --- Colab 환경 설정 (1회 실행) ---\n",
        "!apt-get install -y xvfb > /dev/null 2>&1\n",
        "!pip install -q pyvirtualdisplay gym\n",
        "!pip install -q imageio\n",
        "\n",
        "from pyvirtualdisplay import Display\n",
        "display = Display(visible=0, size=(1400, 900))\n",
        "display.start()"
      ]
    },
    {
      "cell_type": "code",
      "source": [
        "import gymnasium as gym\n",
        "import numpy as np\n",
        "import tensorflow as tf\n",
        "from tensorflow.keras import layers\n",
        "import matplotlib.pyplot as plt\n",
        "import imageio\n",
        "import os\n",
        "from IPython.display import Video\n",
        "\n",
        "# ==========================\n",
        "# 설정\n",
        "# ==========================\n",
        "video_dir = './video'\n",
        "os.makedirs(video_dir, exist_ok=True)\n",
        "\n",
        "env = gym.make('CartPole-v1', render_mode='rgb_array')\n",
        "state_size = env.observation_space.shape[0]\n",
        "action_size = env.action_space.n\n",
        "\n",
        "# ==========================\n",
        "# 정책 신경망 정의\n",
        "# ==========================\n",
        "class PolicyNetwork(tf.keras.Model):\n",
        "    def __init__(self):\n",
        "        super().__init__()\n",
        "        self.fc1 = layers.Dense(24, activation='relu')\n",
        "        self.fc2 = layers.Dense(24, activation='relu')\n",
        "        self.out = layers.Dense(action_size, activation='softmax')\n",
        "\n",
        "    def call(self, x):\n",
        "        x = self.fc1(x)\n",
        "        x = self.fc2(x)\n",
        "        return self.out(x)\n",
        "\n",
        "policy = PolicyNetwork()\n",
        "optimizer = tf.keras.optimizers.Adam(learning_rate=0.001)\n",
        "gamma = 0.99\n",
        "\n",
        "# ==========================\n",
        "# 리턴(누적 보상) 계산\n",
        "# ==========================\n",
        "def compute_returns(rewards, gamma):\n",
        "    G = 0\n",
        "    returns = []\n",
        "    for r in reversed(rewards):\n",
        "        G = r + gamma * G\n",
        "        returns.insert(0, G)\n",
        "    returns = np.array(returns)\n",
        "    return (returns - np.mean(returns)) / (np.std(returns) + 1e-9)\n",
        "\n",
        "# ==========================\n",
        "# 학습\n",
        "# ==========================\n",
        "episodes = 300\n",
        "reward_list = []\n",
        "\n",
        "for episode in range(episodes):\n",
        "    state, _ = env.reset()\n",
        "    done = False\n",
        "    states, actions, rewards = [], [], []\n",
        "    total_reward = 0\n",
        "\n",
        "    # ---- 1. 한 에피소드 수집 ----\n",
        "    while not done:\n",
        "        state_tensor = tf.convert_to_tensor([state], dtype=tf.float32)\n",
        "        action_probs = policy(state_tensor).numpy()[0]\n",
        "        action = np.random.choice(action_size, p=action_probs)\n",
        "\n",
        "        next_state, reward, terminated, truncated, _ = env.step(action)\n",
        "        done = terminated or truncated\n",
        "\n",
        "        states.append(state)\n",
        "        actions.append(action)\n",
        "        rewards.append(reward)\n",
        "        total_reward += reward\n",
        "        state = next_state\n",
        "\n",
        "    # ---- 2. 에피소드 리턴 계산 ----\n",
        "    returns = compute_returns(rewards, gamma)\n",
        "\n",
        "    # ---- 3. 에피소드 전체에 대한 정책 그래디언트 손실 계산 ----\n",
        "    with tf.GradientTape() as tape:\n",
        "        state_tensor = tf.convert_to_tensor(np.vstack(states), dtype=tf.float32)\n",
        "        action_probs = policy(state_tensor)\n",
        "        action_masks = tf.one_hot(actions, action_size)\n",
        "        log_probs = tf.reduce_sum(action_masks * tf.math.log(action_probs + 1e-9), axis=1)\n",
        "        loss = -tf.reduce_mean(log_probs * returns)\n",
        "\n",
        "    grads = tape.gradient(loss, policy.trainable_variables)\n",
        "    optimizer.apply_gradients(zip(grads, policy.trainable_variables))\n",
        "\n",
        "    reward_list.append(total_reward)\n",
        "    if (episode + 1) % 50 == 0:\n",
        "        print(f\"Episode {episode + 1}, Avg Reward (last 50): {np.mean(reward_list[-50:]):.2f}\")\n",
        "\n",
        "# ==========================\n",
        "# 학습 후 영상 생성\n",
        "# ==========================\n",
        "frames = []\n",
        "state, _ = env.reset()\n",
        "done = False\n",
        "\n",
        "while not done:\n",
        "    frames.append(env.render())\n",
        "    state_tensor = tf.convert_to_tensor([state], dtype=tf.float32)\n",
        "    action = np.argmax(policy(state_tensor).numpy()[0])\n",
        "    state, _, terminated, truncated, _ = env.step(action)\n",
        "    done = terminated or truncated\n",
        "\n",
        "video_path = os.path.join(video_dir, 'reinforce_cartpole.mp4')\n",
        "imageio.mimsave(video_path, frames, fps=30)\n",
        "\n",
        "Video(video_path, embed=True)\n"
      ],
      "metadata": {
        "colab": {
          "base_uri": "https://localhost:8080/",
          "height": 562
        },
        "id": "LkIbdXhxyrZL",
        "outputId": "8cbc6cb7-d836-459a-a302-3049dd3d774d"
      },
      "execution_count": 2,
      "outputs": [
        {
          "output_type": "stream",
          "name": "stdout",
          "text": [
            "Episode 50, Avg Reward (last 50): 28.60\n",
            "Episode 100, Avg Reward (last 50): 32.80\n",
            "Episode 150, Avg Reward (last 50): 46.16\n",
            "Episode 200, Avg Reward (last 50): 68.50\n",
            "Episode 250, Avg Reward (last 50): 73.22\n",
            "Episode 300, Avg Reward (last 50): 109.94\n"
          ]
        },
        {
          "output_type": "stream",
          "name": "stderr",
          "text": [
            "WARNING:imageio_ffmpeg:IMAGEIO FFMPEG_WRITER WARNING: input image is not divisible by macro_block_size=16, resizing from (600, 400) to (608, 400) to ensure video compatibility with most codecs and players. To prevent resizing, make your input image divisible by the macro_block_size or set the macro_block_size to 1 (risking incompatibility).\n"
          ]
        },
        {
          "output_type": "execute_result",
          "data": {
            "text/plain": [
              "<IPython.core.display.Video object>"
            ],
            "text/html": [
              "<video controls  >\n",
              " <source src=\"data:video/mp4;base64,AAAAIGZ0eXBpc29tAAACAGlzb21pc28yYXZjMW1wNDEAAAAIZnJlZQAAQBxtZGF0AAACrgYF//+q3EXpvebZSLeWLNgg2SPu73gyNjQgLSBjb3JlIDE2NCByMzE5MSA0NjEzYWMzIC0gSC4yNjQvTVBFRy00IEFWQyBjb2RlYyAtIENvcHlsZWZ0IDIwMDMtMjAyNCAtIGh0dHA6Ly93d3cudmlkZW9sYW4ub3JnL3gyNjQuaHRtbCAtIG9wdGlvbnM6IGNhYmFjPTEgcmVmPTMgZGVibG9jaz0xOjA6MCBhbmFseXNlPTB4MzoweDExMyBtZT1oZXggc3VibWU9NyBwc3k9MSBwc3lfcmQ9MS4wMDowLjAwIG1peGVkX3JlZj0xIG1lX3JhbmdlPTE2IGNocm9tYV9tZT0xIHRyZWxsaXM9MSA4eDhkY3Q9MSBjcW09MCBkZWFkem9uZT0yMSwxMSBmYXN0X3Bza2lwPTEgY2hyb21hX3FwX29mZnNldD0tMiB0aHJlYWRzPTMgbG9va2FoZWFkX3RocmVhZHM9MSBzbGljZWRfdGhyZWFkcz0wIG5yPTAgZGVjaW1hdGU9MSBpbnRlcmxhY2VkPTAgYmx1cmF5X2NvbXBhdD0wIGNvbnN0cmFpbmVkX2ludHJhPTAgYmZyYW1lcz0zIGJfcHlyYW1pZD0yIGJfYWRhcHQ9MSBiX2JpYXM9MCBkaXJlY3Q9MSB3ZWlnaHRiPTEgb3Blbl9nb3A9MCB3ZWlnaHRwPTIga2V5aW50PTI1MCBrZXlpbnRfbWluPTI1IHNjZW5lY3V0PTQwIGludHJhX3JlZnJlc2g9MCByY19sb29rYWhlYWQ9NDAgcmM9Y3JmIG1idHJlZT0xIGNyZj0yMy4wIHFjb21wPTAuNjAgcXBtaW49MCBxcG1heD02OSBxcHN0ZXA9NCBpcF9yYXRpbz0xLjQwIGFxPTE6MS4wMACAAAAB/mWIhAA3//728P4FNjuY0JcRzeidMx+/Fbi6NDe9zgAAAwAAAwAACNCLwW1jsC2M+AAABagA5AeIYoYAiYqxUCWJDOnwOhcEy0EGNgdzW0hxwQk0RlkGa/+BJsEm5KheN4cipbgW8dNpSq8RB+OIjgveRAUXhi0788wv/qksXprNmN7isrB0n8OpD6w/IFc+C/jcan38HU7ujGXS+vSqJWmerhzvjhsZfUA8tI51xzFuCIMqS6oFgIp7kj0pRKNvoAsx+zesGKkBULP4d+dXOdZ/hCwEBdTO2rKApYHt4ZDabywE3sc6hq2XwhYUcE4IAjsY+tUlgo2p8qM0naQiZAPm/Ynd+M49gsueq/OrA/49GgQlfqYNjgMrg92/GgShSDQv6JObVosOEeSA64dmlWi+fSejDfduacvkR+Wyca24Mz5+YuadLU9hIaitSIcyLYLz+Gntb9clkvkh/WiEY9wu8kjGuYWG8jMSMxUTy/dXaJJVJ8V7e1hQkzc0vazwjhvY0fg5s4uW6Fk0Ms5sLMlnMms/lIsPI6KyA/X6C9ZXaAdmWUkj+0J1xeYwCVSnOUdSj+UEAkQAxIDWBPfTME1JvQWN0tJONdCUnXgFJ/QT9yIOTjyxiej8M1L4TIe6WU3Wfp2qlkeVwHSH8l2WijYgXpgy2AAAAwAAAwACvwAAAGxBmiRsQ3/+p4QAAAMCjmHWQUWSvyr1YdObrSesAIU4JNZvrf13XUs9poy5HXiJ16NtYna8saNFGo0cdAg02lCQ87K79nKC4zxAFlaUrvVsc+DU/HVqZO050hS1KgJh6s3i+oMRCMWvYRZHecAAAAAyQZ5CeIV/AAADAgshPICmpnQAkdMxVOseO2TDIjWzE/V/zDlk0gZpt86BlZvyn/Xwgs8AAAAvAZ5hdEJ/AAADArOk9buk1ARHiyOHkALMUdkQHq7E22tfh1ei+N/0LtB09FLafLgAAAAQAZ5jakJ/AAADAGIh9HAHpQAAAG1BmmhJqEFomUwIb//+p4QAAAMCfCcl7p+tByqqHvhDuDx2r1+zGLWF/QtAY72PzfpGC+e1vW8TOykXbfMpFCsxYYjUKf9Sa3Wf9gvkD8FKqk0oyT6x/9kL1iMUrvGrjVafBQM/YXAOoGu87IGBAAAAKUGehkURLCv/AAADAfwDLZPU4K3+1jcLvriT8z38bpPEHjgAwhKnCBLxAAAAIAGepXRCfwAAAwKhpusNSho/GN0etgR6FLeT9vkDz6O3AAAADwGep2pCfwAAAwAAAwDegAAAAG1BmqxJqEFsmUwIb//+p4QAAAbEON9AIO2P2yzoJ6uagLDxFqVVmkh5GAM3dZcoygAnpad5UCbk4XGNEmrnCOCKznZbmuAQQv3cd+GiuS2elXQuesOIOp39faa31NFbNuxzqUPpyGj6t7ejSoAgAAAAKkGeykUVLCv/AAADAgsjdQoEqR+jrmvjj12kAEtLIwsi4wgQAIDikYQJeQAAABsBnul0Qn8AAAMCs6a6YKIWQzgMXBp4dGC/y24AAAAQAZ7rakJ/AAADAF+kyE8BswAAAJNBmvBJqEFsmUwIb//+p4QAABHSLxAxeTeKATFN2vN78yqpIJLWZYEtSjuJjm/ffu14ApNmGIRWKaYMsj7Aicw9c5aZ89Tigzi8kznPMVmPoVS9QwLgWUYMBx+dBPKniGI+NzTlXTaDZiqgrZf+XPDRMu6RcqigXCVW3tCwkX4iL3MsBeDAj7eANKJsxYvWk2WbciEAAAAtQZ8ORRUsK/8AAA6ADsX5JUOV8OmjmVt77VQvRWPWTQ6D4MoqxpABHf8KoC7hAAAAIQGfLXRCfwAAEt9nr7aF+RBGZ3w4SH7tyknwTX1++qJyQQAAAA8Bny9qQn8AAAMAAAMA3oAAAAC2QZs0SahBbJlMCG///qeEAAAGvo+tDKMuuAUgVHiS8ySPH8jOD7000+hgSShnicshg+SqcaeivFe6BpudPaQ5VKbLibWrfUxdiR4QJ5qUj75sawikbAcEZkEZ2GrJfohjGr60LwU/WEMVSXx3NsWqn3qfBN3Hl/j4oDNuYPImVZ0OzmOJh5m0r7RJq0o5J20DgiH28mIrosdwLJeMB92Bb/PHvBCHcB0yi3X3CEHAETO90RTQhIAAAAAqQZ9SRRUsK/8AAAVlp83knyC6vLIi9P0tRhbtE377PXVtDP8ABqG68IFJAAAAHQGfcXRCfwAABupkJ+cvB0wP5HqsSd89xxl9XxbcAAAADwGfc2pCfwAAAwAAAwDegAAAAGhBm3hJqEFsmUwIb//+p4QAABHSLv4sOyvUXw7g4JQ2gbWvUMAAdNlVThTLpEKntoLv/fu37riOI/oSrkR8uxG2ccdkfjBgewG6WBvfQ0OT/OlpzbVyQbK3L16loYtMtyA2ERTDJ4zWzQAAADBBn5ZFFSwr/wAADoMkq2ZFUEqtRmUk8U961SPB1nXekiIEoLaylC0AJYn3NQywQsAAAAAdAZ+1dEJ/AAAG6mQn6bcaObtw1v3f56iJlxjmW3EAAAAxAZ+3akJ/AAAS2Iw9o71lRXSZBCDxe1p4MsJ+kNhHXrRnzZauAC+W8rChEwKAmW1fBwAAAFFBm7xJqEFsmUwIb//+p4QAAAa+/SmR3OOEAE93OwjcuPO2HLZllWlORG45D66J9ue4aYtluoasdadU33Fzy7DT9QK8qYNmUTfEo7MChV9wz8AAAAAqQZ/aRRUsK/8AAAWKvcvGfY1rvgqd7gxZMePYOFNiCQAAAwABME6eEFbBAAAADwGf+XRCfwAAAwAAAwDegAAAAB0Bn/tqQn8AAAcV4Clo+0BS67sIJvK91D1wc4BEBQAAAExBm+BJqEFsmUwIb//+p4QAABHSLvZITRpCaIHagDFJQiOi4F8dPAQL7pGHBjHS1eZv7QxbEzCM9ZdsFvp6XWMVK8u+30Md2SCWOQZZAAAAK0GeHkUVLCv/AAAOgySrfL3Ti4UXFACq5h9rLjVh/mWewAAAAwCQbE8IK2AAAAAPAZ49dEJ/AAADAAADAN6AAAAAOgGeP2pCfwAAEtiMPZOtOlH1y/torHaqjV8RJiUQEt5V2aEwAEjJdC4pU7aXjjzBB6qasYkDEdDSwYEAAABzQZojSahBbJlMCG///qeEAAAR7kHwNQi3eg1NFT64pOOTMLkqrwAepNWmmkWHJHzagZjsLAvRelG8LtTXKqVifrVv72RVPNrONMQixNQ13LA18xq0IMaTRviMTOrn63xIXYuSdIxhOpt/R12Ko4xvfgSDgAAAAD1BnkFFFSwr/wAADn9r6vhuqPVzVjdQQjmdzOCsqw0AIMh1pLfmi/Tk+W1DkoGd2bgFk/SHGXIAAj2XlghZAAAAJAGeYmpCfwAAEt21o9c7Py5PZ8zbIHQHnzhWTpOa38k1HHC5bgAAAGVBmmdJqEFsmUwIZ//+nhAAAEVD1ToQWt6KgGSVPNQKsvOtYACWeiXm/m/yN2J0wna27+4W8CCJ7KpcuICCwhw/e/T/s1JGvbrJ/xao2NTvrrzP0MJoqdAoBpD3xpRqmpjLO+ItsQAAAEpBnoVFFSwr/wAADoAOxbZWm5E1Kwr/uugCU0ZSobyVVSyUWtsukWMUtJ5CuPtACRqy5tpq7sONo9HuVaTwAAADAAAMRk9KUMsELQAAACMBnqR0Qn8AABLfZ66dFxO7aGryn2k20elGjqzW7Hc95CXVtQAAABwBnqZqQn8AAAboVHS4kOLLVgWBMq9KPJy0GNuBAAAAYUGaqUmoQWyZTBRMM//+nhAAAEM3a2w2nL/9y/PxqWJzhYc/NLmhJBNgifpoFWsipFdpyCtCsBdbBp5QAWHqD5UOWGo6oMLoZ7u7sLE8VfOEX7zcXP9zPk2oUgvaoskE1UwAAAAmAZ7IakJ/AAASWKTOqM063+4pLgTAwSOIugpquQUH6ALIjh8ILaAAAAA+QZrLSeEKUmUwUsM//p4QAABDRSZy/03ockb1ENsBwkJUYIeCcJMjlNFE+4KtEtHNhw6pADPS6Q+Klz7TVyUAAAApAZ7qakJ/AAASWKTNzHW+eTmKPD4CwEB9WcUI19iA1L55wAzZaESqBGwAAAB1QZrsSeEOiZTAhv/+p4QAABFUwQUu+TfEdt2xVs3pgJPsAlufm1sMs9IKHE6I3nTqgjJD59sQBE+sK1CwWCkkX1oJ4h9JdVynOY6XQh4pi4nysy+TETpT71yTHlSMZ8+OxwLOKxPk6mXZQ1hq15LmXx+NStVsAAAApEGbDknhDyZTBRU8N//+p4QAABFZeFCNcgAsCZtvi7la5j7DuKy8ca6mNUrfkaSo4rKfZcuMdg9K/KyB7cQDlaywRhRCO3fs4PBp1H/HMQiLUDRegB4iwQvvJ6Om+t6Sa2Vwka5WDp/gNNOWuXc8k3tJHeWw6VaVDpd3hwZroIQlMVWFYOdbPsmEIzPN+PJbrKCbQDT2PGzF9U5cvGJCDo4tLwIzAAAALQGfLWpCfwAAEliMPRiSfp1d907wKQwDTFmsMPMdekebTR0PT0AAkwASuKoB8wAAAKJBmzBJ4Q8mUwU8N//+p4QAABFOXM3Ww0HgiyUKKdB2xTy7poauUMyFenbB0lhm0iznh9s8bMU6ah5NeK7+fsS01hZoRT/Txe2YqUqP9n7thOtuMkliL1VhMEWlnOdjAf5ETMajfduofh38RD+sEybgOJc7DIP7gl0R5n5kRASDVLf46uLflkmyyek9P6UNqQlGhnKp1UciK6PjgHVQYZiJ2EEAAAA4AZ9PakJ/AAASYS4q/+V2n+/jtR14OVIzvS2o5e+OJ7EKu/svFHIGayeSaR4SoCAACVjK2cVQGBAAAAC2QZtUSeEPJlMCG//+p4QAABFVmDZi8CTJPrecgDSyg0WPB+Da4TqwlzCGhqfOTwMR+h2mig2hAyDd8Ls7riV8SmLFm74Q/I2WoKroPNk6lNLH4qabWObPvv3LonNMiJPz89x6XVJLCtarD1CbbhxtSD/TEDdNgpVpLzNkQxlotaBhnkqK73jdiK7+XAAALOipUGlBlDXs0gUgXiZInlxgjztXaZs7VrtEhvVDySX7mosdBE1tSIEAAABEQZ9yRRE8K/8AAA4na9yksntfKNmCQGShEiYBojBm1qXWdiuvb1ME12MPLy6cYvkFGor6eE3E8drNpMA69Hq52p6gHzEAAAAoAZ+RdEJ/AAASVeKELY08DVqk8ZokbmnBhZ608QseA95KcCsWsBpnlQAAACQBn5NqQn8AABJdsJjfizv6o8/W/jOaNGyvI1xZPFbpK3bbgsAAAACoQZuYSahBaJlMCG///qeEAAARUctq7gE1GRhiDTmHSgdBxH6Es/k9ZMLfgxhO+vDdFG7VWd7UQvUhdOi/cS1rZKIvXkeQdWkFXNGWoxMoSM3sBxdL1VqPUl088/Am8tYZtIUHKP5LDAF9uNv4UmujOatnMzO6RuceAEKVYDxbDN1sPeA9km9vfrV58qkgXX18E8PavaBq1vGJz9cDTWwjsY/PF+pB1v0/AAAAREGftkURLCv/AAAOJ0EMa+lBZncoP+p/BWzKEYxhDp0iluT6X2Rw8oC318iAtcyw3R5wP5YSuG2HKkAAAAYTiVY9lgXcAAAAGgGf1XRCfwAAEl5n3VRyRHSAAR6ZPA7/stY/AAAAJwGf12pCfwAAEmEuKv/ckcf1aaUqdyFKgJBwlhZmrPIkuOj/75xENwAAAK5Bm9xJqEFsmUwIb//+p4QAABFuQfA08HaALu1QW1GjjvzMPRuBIAWIdbjKFU/OD9K1kVgJ8OU/Zh17eN4pfn33ogjF0cBID7ruQ24wf2p0QOzHTxMeE/hNCMW9/TbnJ/kb4pRcaO1/W0yLTLUuDEY5H77l3sKkOGtX+El10Z56e4SQdKdpj3L+EpT1ZcRjX89GIHcGjAA+97SwPvjTuulyhKB9yw3WJA2Zimsz6oAAAAA7QZ/6RRUsK/8AAA4qvoVvt9jnYvHD2QFyWqbh9MyHn3OPAau5ASfM6/yaqs6cuAAAAwAAj+16NWEAr4EAAAAkAZ4ZdEJ/AAASXmfdU/yjBfdZEGsoERjZ2pM0VTVnuyyQgxKwAAAAIQGeG2pCfwAAEl0jG8j34Hd5D+ml+qimGjCUiM6W7mMCnwAAAItBmgBJqEFsmUwIb//+p4QAABFum9fpwtb/U+iDzzaFFX3282VQBEnmKQISayahTl1EbAmtsUJ3aL9+2RtR5C4o2pdUHXspzLP9uTVaePlBU1gDowBHQtOxIQOrNiO6QmYHLGO42LrWyWMMTZwv3vlxuzFV8fzPKEDWgtx5QAt3EmtGj7P2VAiK8UxhAAAARUGePkUVLCv/AAAOKA2zIadeV2pS+0VZl8YIXqwX/wDbrT3IFcgAsClt7Cef/XOoAS0OchaWEk3xjS+AAAAFIdsXxLLBDwAAACsBnl10Qn8AABJWmTccsGhmjwaVhy/7zsPN2xflTmJUL+FkBQjMQcopcfwgAAAAKgGeX2pCfwAAEdc1OmGhSEBec9gBMfC4gDWbhevPhYJ4uXl0hcDwl3fk2QAAAEJBmkJJqEFsmUwUTDf//qeEAAAQ0f/YGL1E3CeABv9L60z/7D4HjwRpljbEs6UOsu22mgPwoUYqfYfSU5CIdOu3ZfgAAABJAZ5hakJ/AAAR1zUOQ88P4CJ3EbekB2kZOh/GUCxWnyn0C2W6POgVpTby8DQjVRmdbd2oY5ROVmcOWgAAAwAAAwANFoqMmqAtIQAAAKxBmmZJ4QpSZTAhv/6nhAAAENHfKw8i/uO5wAA0luKs7razfxD70xbtQuseOtJtLlzkuyRuEmsX/zbYYvzSz688XHu5PfmU/BtReW1grAp5zpsrumevdY7RfmijWqdov25YD5Esxh37Es7SZiYU+/4AXyxC4pYJlayaHOu+kB38HtgQKVwT7g1gp4ERG0qArUHskjH2QGnRm5U/1MuK2MRgn246Gh6JANflk+6AAAAAQUGehEU0TCv/AAAN0DUMa+kReQA3ZqBrRsI3Mmzf2T9nNgORDBaqioO/72FOM99t4SEZybeBo95xgKQOGEcMNAHpAAAALAGeo3RCfwAAEd4aEXBS895lmmpwkGeVNr09wOoqoY25kZe8OhNHFbWtmFGZAAAAKwGepWpCfwAAEdc1DkPBTC1RAC3mXNGvfNgy4AD6+hfK+0QNWYejP0uuzKUAAACBQZqqSahBaJlMCG///qeEAAAQ0ecQlKOcwXw4VSagko2tPuY8RswvesMS2pkQ0y6YZYVOFnFZOwSDjb2E3MFVmY4T7mPNExZcYZ2YybiaZMtfRQd0hyoWXiKGYMrEYgKfQ+g0TX7E8VQws0e0FBsjd08VRU73kPosy2MUxDoHoktfAAAAMkGeyEURLCv/AAAN0ABJboX9R6nbJrA+7bGOUHlOSLssPzBnb8ZqnAwkQAAw8rP+WB/gAAAAOAGe53RCfwAAEd4aEXBR3tufcPak1/QXr7ahxHGjMO8gKoyslyV9paP4gBDT8N1mViwxicq2VPHAAAAANAGe6WpCfwAAEdz3VvYofJIgTqvLy4FlogNv85Yv+qUb89arr9Xhpqf4fXxXTQRDciRcCs0AAACMQZrsSahBbJlMFEw3//6nhAAAEE5/Pp4p1zZWr+tOb57SbnhPKcjSR+gBbPdt54GFK213zZZc+F1/a770JncQXuEHlTSVD1jeYuLFgn0+BCKYD+t97G4zYV8GIzJSNzUnpN1f7cbXvWPhavaJTOnG5psV7uK0fassSghpNuF9pvVMSFsOcJkfTPPvfoAAAABCAZ8LakJ/AAARVtbTZBp771/PpE4ACGM2n9VRtPYLUWUl0PBjmjJ3VJllmXmaHTU9HiaVFBnAAAADAAF8yr0WWBIwAAAAsEGbEEnhClJlMCG//qeEAAAQUeQacUD980HwAAjLnK3YNSoMkrFx55djc/5Ph75VMj/xA5S/4FwUSLais7x5MIqQPeMDoJ05deLVFTaeAPaWfxkU9N2ypcIK7CKs2rMiDMsTbHMTeulEFX9bj3MXVWCeTAjzo/cROMW4b3CODUbGrwiJZwd1Ua3RUa4yIKpEoREKUt5Nfs6mE3pn8UKKi+CraNKyg18zFcTSootQDZCBAAAAQUGfLkU0TCv/AAANgABFMY+32BVHQROKq964EIMqeXFGuBN7FQAsTsqOdIPx/qow2gJKbYAAAAMAI8Kyv6b9iAdVAAAAQgGfTXRCfwAAEV5OiV7D2SAqinritEFGT+7SpNAU6AZLwmQF/Y5di/zvl+8ZZ7l9HjtNaxNQGBBbnYNdSHVmEYIlxwAAADsBn09qQn8AABFW1sEEbUXcdO6SyWCjNiUNXQilJl9AuhCRIkrexk7QXiL9iyRrsSpl23KyK3KZ7rv7gAAAAKJBm1RJqEFomUwIb//+p4QAABBum9fqcM/GJqlRHktDlXMmSl0IpQgC6seb+V5F46CRTrTQw7Q/FZixiF3eMoE3ygykZRv+ed8iYTSa7SjEvoeJra2yYk9kkdXPrhszCXb/S2jGNX44pOosjsCyTPrvSY/ACUSgxmZ3kR0IcjQ3WvMeqi8JCYcQPw5NgvPdx6aqXx4VDJRT+FkFUFcOVSikKbIAAAA9QZ9yRREsK/8AAA2DKkFKknwn2YnkJX9eg2Jsf3KG7ftliwvCWXEYBlkrWj6hOx76DgAAAwGtAfyjEqArYQAAAC4Bn5F0Qn8AABFeGhFwUd7Zkz4IslLXV59gs8oPeveAvGhQzvBHSpSnwosLTPTAAAAAJwGfk2pCfwAAEVbWwQRraYS/Nf2hp3bEusrSr2x+HS6oxUAxkBZPuAAAAPVBm5hJqEFsmUwIb//+p4QAAA/f7txBc6QBWmwt65638AAAfRkHyW54vwHZLLxBS7DhAJ470dK9U02CsCX94cDYb+KiXsKVc9Y+SONGf91ohZFFlUe/0JQohAUvnRsEPCJfmDZZBFUKhH+7LDQwjOyH1fIKGGrLDpCC1c5I3gSQZtPsKOVM200T/Bga2ZWzGJs3oYgGxTapoktW+l587BOD+gbWGqzEHF6MNpCG243rONdWqiQY38MPbbQxA0O4ikprmrCYJiWtLG6EuRYBFfvrVFx4cM6C5tLVj3CVD7vxIawuHNIdhYO5lid0WeZwUF6OcbgLiQAAAFRBn7ZFFSwr/wAADTAASW6Lj2T7PJdh5g30ol7nICRbXINrguG0/fbUj23tDWGwimBkt4Hkw0X7PfdGvSdy7OYDSt9ET6eyOgAAAwAAFuC0iKVAIeAAAAAwAZ/VdEJ/AAAQ1bNsVI2DfZr4nZDG8y6YABbQMws0jWpDqyNstkhwKJ4HgoY2fbVhAAAALQGf12pCfwAAENc1DkPPEY4py7w3vQ21DlztwATynE4duMJVG35ibI/Blw/egQAAALVBm9xJqEFsmUwIb//+p4QAAA/YOFogkm5V7cGO1Aqg2pf0UPdKB3fqHO8eSl8zQyNglhNJJhwcBl9p0lf3FXiJlA3Jpbopx8WL4Jxm6b2FWIlD0UBk5hvhspIrXDEGGDHX5XFd6lKBVnAo+zRl5xyACJz8A3QoXtmr+ea7XiQldkkHTQHxvRi78zoFzS+IWErWFN2obVLrmC4N4dJldXzFQyrxzKMd7LABiyrMTM9KhZd13YiAAAAAQ0Gf+kUVLCv/AAANMBBcL7HMm/Ewv2Man6LkaJf/pDIPF/lP0T1t70QAdICQsjRPxKQgJOckZIAABbBznFvhSPYgIOEAAAA/AZ4ZdEJ/AAAQ1eJ+PGeSZPyy41/Ojx+33IOs73sjeJh6zQmH7GqfnKq8RR0FHW15vANQhNDAt/rXEkP0El1IAAAAOAGeG2pCfwAAENdauj09XFtd+UleYqZQtpmjNbDoYg0efqZrO062o7DMlLmBAaX5B/Elmn6W/uQDAAAAmEGaHkmoQWyZTBRMN//+p4QAAA+AL7gx474lfScuDRSi4csAROXTXgsPdgsbOadvD0ezlZXjmPkYdMVZoMdXPXouwG58/j7D+l+RDCUB1ohBiQhyRMd4XSOLHljurT6e0yPic9wZvX15t206LgRIB4rVRamhmtJ6r+IcpmjKYTHCbvEA5NddGMD4PjWOXHx80rJnUcp5/U7ZAAAAPwGePWpCfwAAEFbW02QeJPC6s6Pgd/ipcA0g8BYvnzRO+AgX5TLBQk+wePC+7GjVUwAAAwAAAwB57P460ywHpAAAAL5BmiFJ4QpSZTAhv/6nhAAAD4AxqSYN5iJipgZACuuae7x0lc+U7kG+OphI4cC2LgXgBUE7b5OVRdQ6ClYskj3oN+A6YJe7jqrqkxiMQyk7QKSt+XV0pA+0rdlJmzogyyNgVOM4/R9JjepJNjXVAB7yR/fvlS2P0nKg+2QQh/AScEwfYfd6Td5n6vhfDHWvI60uL4KihZO4QApHTbAwMcaYV2pg4Vb5Jo5n2RMM9IwJk0JUsqEf8g33zY0RhDVgAAAASEGeX0U0TCv/AAAM4BB8zOjvxyfDYgziEByIvNq9a3K7MXW5pG7/KC3o3kmQXV9vzryqLUBlgAAAAwAAAwAqzh5KS0Tsp8IC2wAAADsBnmBqQn8AABBW1tDgEjJ3ic+M1aVBLmSAAgvZSXv7Z/pwk92I5AIRWg70zj7FVulNYi2kolaL9ph6QAAAANpBmmRJqEFomUwIb//+p4QAAA+XCeUomzSVXARgA4W5WNbVfrL3wfwiBz17X27Gv5ldr2qHae1pl/YDB7mXwHQobkDUi6u0lNo7TfFmM3txelweGgBWeVoAtTUtOczC46D59tj5D9wQbKeXSvMjiMMk5keRN9CioU0jddkUrA/f35CttySGTnIWlvqwxCDjEfmq3eLJ1DLUKq7pd2QO/14mIOk2j9RB14+DCyXyHYY0lixwyecBSsLf6pzfKowuwYyJPlu9+BIr76bpG/RME6rHPR3emNb74CaigQAAAD9BnoJFESwr/wAADOM9iSkce8E/ZjX97A3SZElCV+aM9NsuCddKZKG16CQXyewYw3hptcAAAAMADaWg5Rlg8YAAAAA7AZ6jakJ/AAAQWIlnXZLF2Cv3hqw3XcIG1rZPrCsTE10Wyem+MbQIxYGIwU1YdiJmKVcLXcUCzxwAfMEAAACfQZqoSahBbJlMCG///qeEAAAPKDfd1Eab/bf6SXj4ABwvcP9f5jywMfh8cfGywFDXjm1o156w1teMT3EafrAmP7UpUjajEFe3CbvnxPObafhMJRF7NZI5qLYxloEsR3fld8+xr3Sj4Pcka3TiFtdu/WJuzelPdmemeLl+6AKlbMzgtayCJD83vjwNGY+Tt2rTB5Gu9pF10jZ7kEJlx1wJAAAAYUGexkUVLCv/AAAMkBdxD9I4VCA5f5GiQzyhOwmcg8+vk5wfjX0mSzaRtN5w2de95SWoWJgFr8UdYA0flcnbZDzV4MFCrt6nBhe6Lz8emAAAAwALmmyVolPx+p5OaywgTcEAAAA+AZ7ldEJ/AAAP4+NqnrkfobPqo7iFUqsGPu4qXohhA2oA8oh3DQkR1EQulFWP/PgUIyvSVJlo79n2Iy2A49EAAABLAZ7nakJ/AAAP3u9fegE2j7Dqqxw9aTW4ST5xMxHYWMTt8XGNlkpiG4kaga0y2S8gKzgANbD1YJwkXNPGavQZGTVfVL3kjtqzkW6rAAAAfkGa6kmoQWyZTBRMN//+p4QAAA8/CeSmu7oACIwKy5oHRjvEiEoyF2BQIt/UvEv2H7IXNy3Dr3gOIEwKxdaHhhsq4EenosspD0zH7l9aFIHFryXUfueItIakd/EwPvwXIH8Q5TVm9dDMKfNfH4iJayrtdoIPTM5T24spkH2gqAAAAE4BnwlqQn8AAA/e72EJedNC4vCntxtxMzwDs+uYgIFkoyZ5OG4jGV3oM8USXZC7j9QAfeY9SmD/wWaIARzJH69p6YAAAAMAMNVBbJVQFlEAAACdQZsMSeEKUmUwUsN//qeEAAAO0C8Qw7g7rnhPSNKi/SFNuH0JIBIuy3i6N3Z3tiHX6/DqK2TRt2Wz06IM8iabbmGkJjYBnspxBtyPiYsM/vY0HTAJMDzQrOYqDbumHwnTGCv/Glah6ePNX0gKygtbwUehq/zL5FTRXIIJFvPW3pjJp2itI5HXacdGinhqjJ/M2uBN4X2jgRKX3DuhgAAAAEoBnytqQn8AAA+G71+S0IXk0yB3kEXlPTc/D0Es6YOjKrGlxO7vUykpRK3xfilnlsQO0ABDr7mnFEVn1fK1NNsKsTAArPVAmqgHjAAAAH5Bmy5J4Q6JlMFEw3/+p4QAAA7QL6/QAVX4H0cjoiRHFBaCOlMn/2ol1jS3BJJv/RJ6CLGcPDjYiNYayV/5ZXOm9ThfCOhz1F0yyU3s6Z2kM9IDMonGrTKdxFXJsFwiEa3KheMN2mUMKqoZfkKibZ5n7tvga1+hhC9smL95pGsAAABdAZ9NakJ/AAAPhoxLQuDAfKwR45uc2ADxDZjR1HIDldmIVT3NaZ1A/rBLSt2GD0nHM4ns0JhZO33JUWEQBzOoTu4n8YIGctWDfNOgDGN43+QAAAMAAMwMt0BnLAeNAAAAp0GbUknhDyZTAhv//qeEAAAO57Jv8gDj81WAT8myjarGO26FQZCdjqtncozb8F7DPXN52/lKNe0MAjj9iRTluJA9bQMN9JAIzGSJKrHMJt/F73E3EgI1U47R04jxAJfshA5isLAUD6G+AvDuQsym137NP6sA5LQjfDxpNj9V78K3UBL1AoXTChoByRreAAxdxOae6Bgp+ZiJHayBmrzjyYFiS7cTFDuBAAAAVUGfcEURPCv/AAAMQP5PAFoD9M3iqHyTAeWqTSstRj0DEaXVjbcfhcm1jfuD2ss7VGkIB+A+7xe9UdVhkFGTFO9ChEFNtF6Kw7IPgAAPahFxBUZYGpAAAAA0AZ+PdEJ/AAAPi6lG6/YPaIX97Jw5Z5GAnOy9CWDiGAI54HDs3MzsfACNfSrbJbp0Vu6X+AAAADgBn5FqQn8AAA8zT7Uuo8zm6XvXgBMbqf/JLzmQpqT9mcMuR/lbzIABxqxM9cJj9sq8f9iYFmJBwQAAAMZBm5ZJqEFomUwIb//+p4QAAA6P9H0YrOBJpdCSUFmQLseVNOlDbkYgfZ/lkRa9PiIJ7biBZqDj80k2knqf9wwIc4mE2rT5m6m6+0w8cRob5BzDttzLjO5vOchR7eetDQy9ebSJLBZf26UeRsYQhqjlwRfrKuYJztZLv4Zs8b8+fRORo1FdghYgn9d1GAReEROe069BkrCw5SkBga0pr3olPVsjASBwpELHr36L4Vzz/IXbEwbtMZakhP1MxaOVnjR2i1HZfUgAAABZQZ+0RREsK/8AAAvwG3caWSEC1FAFc7oUXx5Jv/5+wl1EJx/UEAK44mor/tQdaFp7ROi/4Ny3MhrDIYHx3GuQZ5eNHrWT8AFoTv17AAADAAADANskq9NUBFwAAABSAZ/TdEJ/AAAPLgVpVbyRdCV6nWSvI0Xzy9eWK9N8OUopZ/8CpzmiCZmbovXzpc1sPDIlN+ww76rBXgAgH3MrLr1PseVMG1b5ZmV6XMxn1krbSQAAAFABn9VqQn8AAA8untVyj0oSsInPwveNSl4eETVWeZe/FMF2AgqBzTnMraALllG9pdVyc52RX8QAk9nrmLpC7J5E1onT2tU1IwhPfMR9ETyNgAAAAMdBm9lJqEFsmUwIb//+p4QAAA4gNt7kAEW3XxqRdvcFfz96E3/1WOwaXdbzO882SZeR8f53O1S13mWE6WeuxQbDvehFxGW6Cddn+1FTdiEszuemYF6VZewsaWcafuIGPypnXDmRo4QS8kZGW+EmBSU2MY4ADTv07WRY/4Rnx1JkLwSuzIDzL2PVjdRpTlXYCC8PbqpZLF1HS3rHeyr6XDQkgjzc/ceO+G9Dq/ETroxSm2mJK5KgW+SSbROz4KNgprpXV6Ck/hULAAAAQkGf90UVLCv/AAALon9BqTDtkq/2XFj5dgkAJNOHSjTQMgqXUYaLMhX63P0VFneZ+GTpQtFg2lAAAAMAAEZeDagHpQAAAEgBnhhqQn8AAA7WntVyjlgXCsu0YXwkAC5eJ+43xStTbF6MGcwq/IVS1eoR97Ui0v8/Id7jwyQALR3eq3AtG6XWnlt9ENsxXmAAAAB7QZobSahBbJlMFEw3//6nhAAADiAykLVuLxqON7pADjInHNxrH4H9gCcja88/N8HR4qoA4qciSjTJb1AZmf327roaFg6nPXK5S0vCeJPCWnRxpnPc+p98ooaOgyDT+2bzEt0m4KDrSgbE0wDQJ7MRIT11iKK7njryIfGhAAAAOwGeOmpCfwAADtaek7RXseLGDcjMGBEqPIAFWs7RZopSNHAB78hebB2kiAo/BPz8Pv5UwCJybjc4QKCAAAAA20GaPUnhClJlMFLDf/6nhAAADjeyekE78lbtozyxwkddDP6WJPiKnj2+LNADeTtYyoJoIwZni/KfRczQpNVuGxiPGSc0HgsDAF7MxRYcS/vZF7WsRgqWp3CNleZJnCCjFhvU7o3gIqLA/8HhPVhQRHeUh+Qai4dgBFWsH+wC09dJuk297jR/ld0Ef8Tt2GUS9g1CZl9bytdHw4vFI+/B1RSRCMKzY/0E/ykF33CwqPJrdSrRMGSGdmJkc5foeMHmZXrfziACoBzaBX7tFijUG+byMjGHE66QGP2rhwAAAEoBnlxqQn8AAA7YON2UNqS8IQWblrDKRY2nZkaJprXe01MhJyg1aVcp6v+nTsoIAINPAhDCSYYXngDItZ+SBWBpLAB/IAFlRlgRcQAAAH5BmkFJ4Q6JlMCGf/6eEAAANevpr8RU9Zh+lif4E5BWoOpReVH3etepL0lGiW2k1CDMYHwz/2naJq5XbsoKRs//0XLhPTPhbh3Gn09NcX24v11reRXnW9i81t/GK+bDqV5lbbhtR0rj0qDkz/ElH7fzYzu7rxTaO89eqtgMeQIAAABEQZ5/RRU8K/8AAAtdIvEiB0A6D0CFcgiS+fj+pjRLxmcf1GIszzcreb5PswIBiZirnRBCEa4s08cSTR/TSZKTrQqgLuAAAAA7AZ6edEJ/AAAOU+zE6Wp0DtR1jNa14fPTavhccG1DIogVKAU/pjMEaTczStxSjKq0Bm6OZoIpYbcUUBEAAAAqAZ6AakJ/AAAOgzKm7EeBQwBa52Z+eLPvd3ALiZqycKbhr/x+YQeU3LA4AAAAfkGag0moQWiZTBTwz/6eEAAANKvHI1Tgb1bsiVe4kAoAsTcwii3ApGQDv5N32MD1CaEl9Nnsw6MN+dFWsINsSHZ4tjy+SVtBym56hZZ1+c3a0Kx1Hf8ehE3u/E5TyI0Ck/VnIcn24ucFxYf2DGhTy1YRuta8ZmS686rcd+oT4QAAADkBnqJqQn8AAA4mnta2R7go4ylCFKKGKcGmoBDggHESiAAXAPyOldIkwoNc8xzI84AAAAznIpBlgj4AAABdQZqmSeEKUmUwIZ/+nhAAADT8VDSPoK1ia+vlLZ9AdgljQndQUJf130arEYq0u2nl0FhHPWZKAULMHd+Ddr86YovHUxHJy1Dsp2AaxQWpURDEdInSFnVGJkONal71AAAAO0GexEU0TCv/AAALEn9BjefBlMB/68FkMMSmHn5eFt61x1BEDbRNBPZTaMXkAAADAAADAABSww6GWA/JAAAAKgGe5WpCfwAADiaezn56CmEv0w5FciEALfUtQ2aM8ZgIxMuw0q79MfFw/wAAAJdBmudJqEFomUwIZ//+nhAAADT8Jaz5dusLYec1zC/qwYQkdsVeVqbZW1u2vieaOYLSDW80H9JCcX6w9QPHENTmUKZkQdzYarN+Eh8ShzCMAfjtvr6P1eog7qQN6gxikdhFOCdrq6zw69d5TPKCpzJ6Au8j3pBzFHxskZ0ekjJ5OhM4WQ8p0blIvrbuMARX00SmCz6hJa7hAAAAgUGbCknhClJlMCGf/p4QAAAzc+o9cEZaPceCAo/B1iAFjmXqlgdkfPhc0sO/m3D2/RacMv7mjDKDo80dwLTeMBzMmaf5C/W0KVBOiXrtu1HrgDwxRi4xZKH5IViSHOYKuxNgYPdy02dcjp707kSEQ+ZC6CAY5+kF6IFY2Q9j4xHFSAAAAFhBnyhFNEwr/wAACsqAE3cVKmfa3TRmKBdAB8w0JwKCVXZQkNa1ZCD6Lhkjfs1lHwxGMB0KkkFwLWSa15wGbnOkl9+H0JAmCRtc/cAAAD9hpgW6xxalhCLgAAAALAGfSWpCfwAADc9/GjF2Yjx26AEtM16dIAVPdY0b/KWqO1HXo5PfEIVb82JxAAAAZkGbS0moQWiZTAhn//6eEAAAM2uKHNVZfd5EEAINJbyiHmQ+uhnUs//v8gvrGdY4QImyr027EFwGxYkWrg4HG3HyqWhbNmbXnwY5EA8d9dlZAejdNVVJr1UbqMiv78Pv2SeRrTenHAAAAKdBm21J4QpSZTBREsN//qeEAAANPwnkpu5UdakAydpsbzEr/afEVuWilUo7dkXy+zV5Q4RVFOMYOf6T9nWNzlu4RhVR5gInA7umzP11wD/bAII7nboqZIsMqj+4KuOpEnXJ/NZ7YNvJQ9VYfpf0CMIGDWZjhChby/x4fbCzTr6KdgCXawGdXMu/Ja9TGhpiON3Jgqx8uq4+/WdtKKQFqYmSZDrxpvwHYAAAAEoBn4xqQn8AAA3Ql2Lt5JM8uitRjMAfNfIPDtySAFb5YCFTfhdcSN+ee5u4pHMLrPg6U1w5VDZfYP43VrftlghOriXrs/JLQiWBdwAAAIRBm5BJ4Q6JlMCGf/6eEAAAMivhR9AFRvzeXFcxfI1yGvZCapRwTVeMDWvEIHzTnAWZ5wIDB08YlI06qW6h/9z+ydgyXpYqYgy+Mhcy1vT/40KN4QUbMxX7QjBXTWSpctoOWSK2ckJpLV5fKWpefA8R8lQ6AmtzavykxkTSX7iSFyD6f/EAAABJQZ+uRRU8K/8AAAp+WxLWkcgUu0YnneNweZAUSX6EdgBbykleiBte0mh5jQwYQweIlLgeKVj0ROMhpbhy9qdCBMOY+O1vHhD0gQAAADABn89qQn8AAA1/kGDekgpbubTpJNBvFdGbBsL9Ot2Xk3b3KpgKkSBlsmfihp8qHnAAAAB7QZvRSahBaJlMCG///qeEAAAM7/R9GKze9UUw5ywtIgffhBy3IMCZfwsFQicfq8GhTa+yI/CSFqAhCevG43mWeJER0VLCcy0+yg1pI15sWjSxwAr8lfi7U0lbNSGQz+PM7cNiPMN3G+rSEiSx0fGpDNmk+N1MJ1eVmKegAAAAckGb9EnhClJlMCG//qeEAAAMi6gXPUarVGXvKgAqRu2Xkqoz2Mm/41V652N6C//gG8QNyehIRgtshAqt3liaKt5RCJmaEMJBaUPlAN4yj62k8DBRixu4BJDakTcULZFLSzUV7tuPgMeTQO3mFFtnIHiLrwAAAEVBnhJFNEwr/wAACjp/P/cVVZZikJP/4FXk4AZmVproNGYXf7XjF50u+aVKXM+qskm9QDqNVskE+QiOVTOKoWAzn1JBDFgAAAAvAZ4zakJ/AAANL38amqjf0kCIATU3UJ9OC+41ky1igY8y8m884HeufhCgffFcxuAAAAC2QZo2SahBaJlMFPDf/qeEAAAMnwnkpvy/AAOFevQNfu1FfIb59wHj0YJla6s2nk04R0GKE1csp1DFD+Q5h6T3hztfjjlGHqmPrgZH46BIBjor4Ug6YvU8KAuG6DBg5XN23mavJUajM/B/bQtIYd+OejP1TD055jqq9nV1CZp9beRWN3xKNOku7O8tIZbF9+ZncsHoBg7dI5/nnJ/oZlactjlQNIGvO92zXIvE4BnVlbPQ8z/pBUEAAABEAZ5VakJ/AAANL38l1nlA5aHatsJKTVpdCAFnNCyV/YR7ZU6xWLMUkw9jpzM6LC6lwGM8WmYRboxFU6bgtBmvr2vuoccAAADKQZpZSeEKUmUwIZ/+nhAAAC+r3aDaJA34rNTKAC1uAWxDUNo1/Y/xsm5Xa+vinICZI1SNnkey9oQIIBN2W1DKu1zVKWqRQ4853Gn93TcmB05hvme4JfTurik1RiKGqIse0oosc5IyGXHaRLZYry7RGhcqOslkADUcVMnJz3vjebzArlJjFmiqdt80P7DKjiBiZi+YtN7SxaBtL7VfEvtWIz9+Gkx7Tdv9z37NkXW2QbRjmZVq0SHPbubq4m27sEZOS59hiE81aMeDgQAAAF9BnndFNEwr/wAACfUZq0HMa/jSR8t/+aAA3zDFfcr9OrkQQxW2FwZhPG7UowPPnHzoT9eIwN+WeioNS4YNzSd/ZRWLWP8uXIkOwgC3zYgBzzrbhOAAAAMAKIUlLKBBgwAAACoBnphqQn8AAAy7e8YnYLp4L9L4mTVEw93wXDzJf2tMRaoNeSabszHToMAAAADLQZqbSahBaJlMFPDf/qeEAAAMT/R9Of55k0t98ss9irLAc3rlT4Djqvp7gabmZV3WaEf2grE/AY5FlwBQt94IS+SkQan2JzPLIkC3CVfd7P8etZABlEDyw9V7+WBQzcUPzy950bQ/GiMZWJj2nVE4azFbqKPnSRnuY5lVn30ZplLuOo6n8gDtpVPCW7mU2A726sGMqUBF7RE0n4kf3OQXMR49eflsy/cHovaD5oQUlYdKGDaE/gZsFqUxkgery3a7yygBdfyyhJQqsWMAAABHAZ66akJ/AAAM4zKm7t+BQwBa8mHBEALN5d2AJahIFt9lqNjfDrbNykuYYMs752Ix292xiqd3kR5Y9XfylaAAAzJiUEGwh3QAAABsQZq9SeEKUmUwUsN//qeEAAAMTwnkpu5UYfgDPkDG214zQbwP3+LgyU+djvnizf9Vxl0F85FDQmweXLR7OPWkbxX29/wPIy+cXkYdmNOLxoyuNCQbIhwnpSplEKd5iYJs0xRZ48K3HevK8smBAAAAOwGe3GpCfwAADI9/JpcUvtVVSQDQeYTAfSOPDz9lzqmdobTpYxAxJBzw6cgaatptHSoG1rgKG/vdCLaBAAAAqkGawEnhDomUwIb//qeEAAAL/r34GoU6PwcybxN3EPeQAFQBbJNe7PsJk7zIIjxq1/tnl+7gFggkAH6WO8zXicWJZ7glbzc7QXc0+NSPK+or7oGJwc4ZORXZ4DOQTJKNFTrwimOStyRkvbExoIEDSSVDET/XzFoKoBHR4tcWlz+WTYuyIq1MO46A4zwvPHE3XDJ9Yu2P4GGNWuLTiM0NAlx1+r5laMfgH+uEAAAAP0Ge/kUVPCv/AAAJq79A8KGCx5JXrzgsQoa48OwnZUwbJr/SDcQlnDvo/l4oYAS473mTyjj3HXl2SFBapi0VsAAAAE0Bnx9qQn8AAAyPfyC014JLfp968AFq7bPWArIfMZBoD8sGa9ozPXEWJzU0jlptlfYLMNgNvyvLTLScOxB2XAHWQHYltmOlPvKAaJejTQAAAFZBmwJJqEFomUwU8N/+p4QAAAv/CeSJKvUZONbifWQwWJd5sebQDweLAqUsTbiAEKJ+jRuevjng7T6x8LM+b77SFsrYvlqZpoRC6TEXy0bE7tWBZ1yYjAAAAEMBnyFqQn8AAAyQl2Lt5JNpUdApSYCf0ZfULgVOz3Igj7MHyaZ+IkDjIz0D1+RZReFr5G6EpDfd1dF2UAknq5MPYSkhAAAAxEGbJUnhClJlMCGf/p4QAAAtVd2h0QzYPZhf5W6AJkPkKCAI6aao0fMvMmbZk5DHm4oCYkYJBNAMAuaaRv0FnCqEOQqP59NT0cL96FoLmD4mmJLhKX+GowitWUEUS8f/GzaAQcR68Z1d2lvCf6Cy4w0EKFmuohngs3r0+QJZkHkcUR97UkhjRQ6WxmW45QFx2PW5PK6wivhOO+1OKYtCF2H+P7NvAO2+hNrATcb0RDL8u8pT1YSIssDc719XgKRPh6toD4AAAAA1QZ9DRTRMK/8AAAluWa9w7XThL4ERkkEOQ/IBePorRnnCskH6bzHiYGKMHxxgSC1pj3UqjZkAAABCAZ9kakJ/AAAMP376sycyfERkALfw62KiQ7ESg0A/gwzCBMJySrqTo9uGkzrU5MDfUGLxG/F//gfNF1DDlCg8kluVAAAAoEGbaUmoQWiZTAhf//6MsAAALfzK9TetPAztACwbev9WfrakOclJ48gm+IB330ZyeWghhbyEioDmZ6P7wl1Noa120falm2cSdL8Z58vMxGKDW2aIm6LXDOfctJD0aDjXppJOScKNCQX1Le1mc5iKoxdHV7jahG1El9T64im3SYYASuZmwxZtVdnu/Jp48KvY2AVDHEHketEoLS3jvR+60KkAAABEQZ+HRREsK/8AAAlsg/WE2MjLB51dAAG6kp68rqhH+oqfHKRsqfRbVQUOU3vq2Y7e63uB4t5kGVcX8gAAsGDxomnhLuEAAAAvAZ+mdEJ/AAAMP5aJ1zthiaCEANxP+2KbgP+0VfWbNjIgIDqtT875nyqsJPJX8ygAAAArAZ+oakJ/AAAL6+tVxIbuJ56GGvucnpJ759zExmt6310RDbzN+xABb+RdqQAAAE5Bm6pJqEFsmUwIX//+jLAAACyUznCuOu09/AALGBcYJXvUkraZxoB7Q43VDdnUpOMCvwHvdPC8+6Ir62RTobwcerNE1doG2C/atIqjMEEAAABLQZvMSeEKUmUwUVLCf/3xAAADAaf005cnTWNL5/ZFFJgcz0WOtQPlHKp9q4cYen5BwoGveBkN/D/dQADsgLB9hOO/1hs+s1505nbwAAAASgGf62pCfwAAC/Dw+Bk7NoYanjOz9PwdbH8szqV83PDnJU9DfPBDofycvTsNaVs3/5SccEwk0ESh4bCL8FDtqUd3LOOrn8nhXMwYAAAK7W1vb3YAAABsbXZoZAAAAAAAAAAAAAAAAAAAA+gAABaHAAEAAAEAAAAAAAAAAAAAAAABAAAAAAAAAAAAAAAAAAAAAQAAAAAAAAAAAAAAAAAAQAAAAAAAAAAAAAAAAAAAAAAAAAAAAAAAAAAAAAAAAAIAAAoYdHJhawAAAFx0a2hkAAAAAwAAAAAAAAAAAAAAAQAAAAAAABaHAAAAAAAAAAAAAAAAAAAAAAABAAAAAAAAAAAAAAAAAAAAAQAAAAAAAAAAAAAAAAAAQAAAAAJgAAABkAAAAAAAJGVkdHMAAAAcZWxzdAAAAAAAAAABAAAWhwAABAAAAQAAAAAJkG1kaWEAAAAgbWRoZAAAAAAAAAAAAAAAAAAAPAAAAVoAVcQAAAAAAC1oZGxyAAAAAAAAAAB2aWRlAAAAAAAAAAAAAAAAVmlkZW9IYW5kbGVyAAAACTttaW5mAAAAFHZtaGQAAAABAAAAAAAAAAAAAAAkZGluZgAAABxkcmVmAAAAAAAAAAEAAAAMdXJsIAAAAAEAAAj7c3RibAAAAK9zdHNkAAAAAAAAAAEAAACfYXZjMQAAAAAAAAABAAAAAAAAAAAAAAAAAAAAAAJgAZAASAAAAEgAAAAAAAAAARRMYXZjNjEuMy4xMDAgbGlieDI2NAAAAAAAAAAAAAAAABj//wAAADVhdmNDAWQAHv/hABhnZAAerNlAmDOhAAADAAEAAAMAPA8WLZYBAAZo6+PLIsD9+PgAAAAAFGJ0cnQAAAAAAABY5AAAWOQAAAAYc3R0cwAAAAAAAAABAAAArQAAAgAAAAAUc3RzcwAAAAAAAAABAAAAAQAABSBjdHRzAAAAAAAAAKIAAAABAAAEAAAAAAEAAAoAAAAAAQAABAAAAAABAAAAAAAAAAEAAAIAAAAAAQAACgAAAAABAAAEAAAAAAEAAAAAAAAAAQAAAgAAAAABAAAKAAAAAAEAAAQAAAAAAQAAAAAAAAABAAACAAAAAAEAAAoAAAAAAQAABAAAAAABAAAAAAAAAAEAAAIAAAAAAQAACgAAAAABAAAEAAAAAAEAAAAAAAAAAQAAAgAAAAABAAAKAAAAAAEAAAQAAAAAAQAAAAAAAAABAAACAAAAAAEAAAoAAAAAAQAABAAAAAABAAAAAAAAAAEAAAIAAAAAAQAACgAAAAABAAAEAAAAAAEAAAAAAAAAAQAAAgAAAAABAAAIAAAAAAIAAAIAAAAAAQAACgAAAAABAAAEAAAAAAEAAAAAAAAAAQAAAgAAAAABAAAGAAAAAAEAAAIAAAAAAQAABgAAAAABAAACAAAAAAEAAAQAAAAAAQAABgAAAAABAAACAAAAAAEAAAYAAAAAAQAAAgAAAAABAAAKAAAAAAEAAAQAAAAAAQAAAAAAAAABAAACAAAAAAEAAAoAAAAAAQAABAAAAAABAAAAAAAAAAEAAAIAAAAAAQAACgAAAAABAAAEAAAAAAEAAAAAAAAAAQAAAgAAAAABAAAKAAAAAAEAAAQAAAAAAQAAAAAAAAABAAACAAAAAAEAAAYAAAAAAQAAAgAAAAABAAAKAAAAAAEAAAQAAAAAAQAAAAAAAAABAAACAAAAAAEAAAoAAAAAAQAABAAAAAABAAAAAAAAAAEAAAIAAAAAAQAABgAAAAABAAACAAAAAAEAAAoAAAAAAQAABAAAAAABAAAAAAAAAAEAAAIAAAAAAQAACgAAAAABAAAEAAAAAAEAAAAAAAAAAQAAAgAAAAABAAAKAAAAAAEAAAQAAAAAAQAAAAAAAAABAAACAAAAAAEAAAoAAAAAAQAABAAAAAABAAAAAAAAAAEAAAIAAAAAAQAABgAAAAABAAACAAAAAAEAAAgAAAAAAgAAAgAAAAABAAAIAAAAAAIAAAIAAAAAAQAACgAAAAABAAAEAAAAAAEAAAAAAAAAAQAAAgAAAAABAAAGAAAAAAEAAAIAAAAAAQAABgAAAAABAAACAAAAAAEAAAYAAAAAAQAAAgAAAAABAAAKAAAAAAEAAAQAAAAAAQAAAAAAAAABAAACAAAAAAEAAAoAAAAAAQAABAAAAAABAAAAAAAAAAEAAAIAAAAAAQAACAAAAAACAAACAAAAAAEAAAYAAAAAAQAAAgAAAAABAAAGAAAAAAEAAAIAAAAAAQAACgAAAAABAAAEAAAAAAEAAAAAAAAAAQAAAgAAAAABAAAGAAAAAAEAAAIAAAAAAQAACAAAAAACAAACAAAAAAEAAAQAAAAAAQAACAAAAAACAAACAAAAAAEAAAQAAAAAAQAABgAAAAABAAACAAAAAAEAAAgAAAAAAgAAAgAAAAABAAAEAAAAAAEAAAgAAAAAAgAAAgAAAAABAAAGAAAAAAEAAAIAAAAAAQAACAAAAAACAAACAAAAAAEAAAYAAAAAAQAAAgAAAAABAAAGAAAAAAEAAAIAAAAAAQAACAAAAAACAAACAAAAAAEAAAYAAAAAAQAAAgAAAAABAAAIAAAAAAIAAAIAAAAAAQAACgAAAAABAAAEAAAAAAEAAAAAAAAAAQAAAgAAAAABAAAEAAAAAAEAAAYAAAAAAQAAAgAAAAAcc3RzYwAAAAAAAAABAAAAAQAAAK0AAAABAAACyHN0c3oAAAAAAAAAAAAAAK0AAAS0AAAAcAAAADYAAAAzAAAAFAAAAHEAAAAtAAAAJAAAABMAAABxAAAALgAAAB8AAAAUAAAAlwAAADEAAAAlAAAAEwAAALoAAAAuAAAAIQAAABMAAABsAAAANAAAACEAAAA1AAAAVQAAAC4AAAATAAAAIQAAAFAAAAAvAAAAEwAAAD4AAAB3AAAAQQAAACgAAABpAAAATgAAACcAAAAgAAAAZQAAACoAAABCAAAALQAAAHkAAACoAAAAMQAAAKYAAAA8AAAAugAAAEgAAAAsAAAAKAAAAKwAAABIAAAAHgAAACsAAACyAAAAPwAAACgAAAAlAAAAjwAAAEkAAAAvAAAALgAAAEYAAABNAAAAsAAAAEUAAAAwAAAALwAAAIUAAAA2AAAAPAAAADgAAACQAAAARgAAALQAAABFAAAARgAAAD8AAACmAAAAQQAAADIAAAArAAAA+QAAAFgAAAA0AAAAMQAAALkAAABHAAAAQwAAADwAAACcAAAAQwAAAMIAAABMAAAAPwAAAN4AAABDAAAAPwAAAKMAAABlAAAAQgAAAE8AAACCAAAAUgAAAKEAAABOAAAAggAAAGEAAACrAAAAWQAAADgAAAA8AAAAygAAAF0AAABWAAAAVAAAAMsAAABGAAAATAAAAH8AAAA/AAAA3wAAAE4AAACCAAAASAAAAD8AAAAuAAAAggAAAD0AAABhAAAAPwAAAC4AAACbAAAAhQAAAFwAAAAwAAAAagAAAKsAAABOAAAAiAAAAE0AAAA0AAAAfwAAAHYAAABJAAAAMwAAALoAAABIAAAAzgAAAGMAAAAuAAAAzwAAAEsAAABwAAAAPwAAAK4AAABDAAAAUQAAAFoAAABHAAAAyAAAADkAAABGAAAApAAAAEgAAAAzAAAALwAAAFIAAABPAAAATgAAABRzdGNvAAAAAAAAAAEAAAAwAAAAYXVkdGEAAABZbWV0YQAAAAAAAAAhaGRscgAAAAAAAAAAbWRpcmFwcGwAAAAAAAAAAAAAAAAsaWxzdAAAACSpdG9vAAAAHGRhdGEAAAABAAAAAExhdmY2MS4xLjEwMA==\" type=\"video/mp4\">\n",
              " Your browser does not support the video tag.\n",
              " </video>"
            ]
          },
          "metadata": {},
          "execution_count": 2
        }
      ]
    }
  ]
}